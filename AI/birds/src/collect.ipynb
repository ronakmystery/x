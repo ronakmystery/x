{
 "cells": [
  {
   "cell_type": "code",
   "execution_count": 4,
   "metadata": {},
   "outputs": [
    {
     "name": "stdout",
     "output_type": "stream",
     "text": [
      "space to capture\n",
      "q to quit.\n"
     ]
    }
   ],
   "source": [
    "import settings\n",
    "import cv2\n",
    "import os\n",
    "\n",
    "classname = \"test\"\n",
    "dir = fr'{settings.path}\\{settings.name}\\imgs\\{classname}'\n",
    "os.makedirs(dir, exist_ok=True)\n",
    "\n",
    "cap = cv2.VideoCapture(settings.url)\n",
    "\n",
    "count = len(os.listdir(dir))\n",
    "\n",
    "print(\"space to capture\\nq to quit.\")\n",
    "\n",
    "while cap.isOpened():\n",
    "    ret, img = cap.read()\n",
    "    if not ret:\n",
    "        break\n",
    "\n",
    "    img = cv2.resize(img, (640, 480))\n",
    "    cv2.imshow(\"Feed\", img)\n",
    "\n",
    "    key = cv2.waitKey(1)\n",
    "    if key == ord('q'):\n",
    "        break\n",
    "\n",
    "    if key == 32:\n",
    "        cv2.imwrite(os.path.join(dir, f\"{classname}_{count}.jpg\"), img)\n",
    "        count += 1\n",
    "\n",
    "cap.release()\n",
    "cv2.destroyAllWindows()\n"
   ]
  }
 ],
 "metadata": {
  "kernelspec": {
   "display_name": "Python 3",
   "language": "python",
   "name": "python3"
  },
  "language_info": {
   "codemirror_mode": {
    "name": "ipython",
    "version": 3
   },
   "file_extension": ".py",
   "mimetype": "text/x-python",
   "name": "python",
   "nbconvert_exporter": "python",
   "pygments_lexer": "ipython3",
   "version": "3.11.9"
  }
 },
 "nbformat": 4,
 "nbformat_minor": 2
}
